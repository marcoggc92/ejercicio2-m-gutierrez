{
 "cells": [
  {
   "attachments": {},
   "cell_type": "markdown",
   "metadata": {},
   "source": [
    "# Ejercicios Sesión 2, Parte 2\n",
    "\n",
    "En esta sesión ejercitaremos sobre aspectos más avanzados de funciones.\n",
    "\n",
    "<p>\n",
    "<font size='1'>Material adaptado del material creado por &copy; 2015 Karim Pichara - Christian Pieringer, todos los derechos reservados; y posteriormente modificado por Equipos Docentes IIC2233 UC.</font>\n",
    "<br>\n",
    "\n",
    "**Sugerencia de trabajo:** Que el integrante A haga el 1 y el integrante B haga el 2, en paralelo. Al terminar, eliminar outputs de celdas, registrar cambios, hacer `git pull`, y ambos hacer el ejercicio 3 en paralelo. Intentar registrar cambios, resolver conflicto y registrar versión final. Para el resto de los ejercicios, se sugiere avanzar cómo acomoden.\n"
   ]
  },
  {
   "cell_type": "markdown",
   "metadata": {},
   "source": [
    "## Ejercicio 1:\n",
    "\n",
    "Se te entrega una lista de valores. Quieres crear una segunda lista de valores que representen los cuadrados de cada uno de los números, en el mismo orden. Inténtalo con una función lambda y `map`."
   ]
  },
  {
   "cell_type": "code",
   "execution_count": null,
   "metadata": {},
   "outputs": [],
   "source": [
    "lista_a_convertir = [2, 5, 8, 10, 24]\n",
    "\n",
    "lista_mapeada = ..."
   ]
  },
  {
   "cell_type": "markdown",
   "metadata": {},
   "source": [
    "## Ejercicio 2:\n",
    "\n",
    "Tienes una lista de valores numéricos y quieres normalizarlos entre 0 y 1 usando la siguiente fórmula:\n",
    "\n",
    "\\[\n",
    "\\text{valor normalizado} = \\frac{x - \\min(lista)}{\\max(lista) - \\min(lista)}\n",
    "\\]\n",
    "\n",
    "Usa `lambda` y `map` para aplicar la normalización a cada elemento de la lista. Considera que si todos los valores en la lista son iguales, la normalización debe devolver una lista de ceros (para evitar división por cero)."
   ]
  },
  {
   "cell_type": "code",
   "execution_count": null,
   "metadata": {},
   "outputs": [],
   "source": [
    "valores = [0, 15, 60, 125, 170, 200]\n",
    "\n",
    "valores_normalizados = ..."
   ]
  },
  {
   "cell_type": "markdown",
   "metadata": {},
   "source": [
    "\n",
    "## Ejercicio 3:\n",
    "\n",
    "Este ejercicio usa listas, asique dejémoslo para cuando hayamos visto listas.\n",
    "\n",
    "Crea una función _lambda_ para convertir grados Celsius a Fahrenheit, y guárdala en una variable que se llama `convertir_a_fahrenheit`. Desarrolla tu código antes de la línea que ya se encuentra programada (que no espero que entiendas aún porque usa cosas que veremos más adelantes).\n",
    "\n",
    "_Hint:_ $Celcius = (Fahrenheit-32)\\cdot\\frac{5}{9}$"
   ]
  },
  {
   "cell_type": "code",
   "execution_count": null,
   "metadata": {},
   "outputs": [],
   "source": [
    "convertir_a_fahrenheit = #Escribe antes de este comentario tu función lambda\n",
    "\n",
    "# Para probarlo\n",
    "temperaturas_celsius = [0, 10, 20, 30]\n",
    "temperaturas_fahrenheit = list(map(convertir_a_fahrenheit, temperaturas_celsius))\n",
    "\n",
    "print(temperaturas_fahrenheit)\n"
   ]
  },
  {
   "cell_type": "markdown",
   "metadata": {},
   "source": [
    "## Ejercicio 4:\n",
    "\n",
    "Una lista puede ser ordenada con el método `sort`, pero ¿y si queremos ordenar siguiendo un criterio adicional especial? Para ello, al sort uno le puede pasar un parámetro `key` que referencie a una función que le da un valor de ordenamiento a un elemento de la lista. Por ejemplo, si quisiéramos ordenar esta lista de listas según el segundo elemento, lo podríamos hacer así:"
   ]
  },
  {
   "cell_type": "code",
   "execution_count": 9,
   "metadata": {},
   "outputs": [
    {
     "name": "stdout",
     "output_type": "stream",
     "text": [
      "Lista desordenada:\t [[3, 67], [6, 32], [77, -6, 22], [-3, 0], [-7, 100, 2, 160], [22, 22], [-6, 4, 10, -25]]\n",
      "Lista ordenada:\t\t [[77, -6, 22], [-3, 0], [-6, 4, 10, -25], [22, 22], [6, 32], [3, 67], [-7, 100, 2, 160]]\n",
      "Lista desordenada:\t [[3, 67], [6, 32], [77, -6, 22], [-3, 0], [-7, 100, 2, 160], [22, 22], [-6, 4, 10, -25]]\n",
      "Lista ordenada:\t\t [[77, -6, 22], [-3, 0], [-6, 4, 10, -25], [22, 22], [6, 32], [3, 67], [-7, 100, 2, 160]]\n"
     ]
    }
   ],
   "source": [
    "# Opción 1\n",
    "lista_en_cuestion = [[3,67] , [6,32], [77,-6,22], [-3,0], [-7,100,2,160], [22,22], [-6,4,10,-25]]\n",
    "print(\"Lista desordenada:\\t\",lista_en_cuestion)\n",
    "def criterio_segundo_elemento(elem):\n",
    "    return elem[1] #para un elemento a ser ordenado (lista), el valor de ordenamiento será el elemento que se encuentra en su segunda posición\n",
    "\n",
    "lista_en_cuestion.sort(key=criterio_segundo_elemento)\n",
    "print(\"Lista ordenada:\\t\\t\",lista_en_cuestion)\n",
    "\n",
    "\n",
    "# Opción 2\n",
    "lista_en_cuestion = [[3,67] , [6,32], [77,-6,22], [-3,0], [-7,100,2,160], [22,22], [-6,4,10,-25]]\n",
    "print(\"Lista desordenada:\\t\",lista_en_cuestion)\n",
    "# Para no crear una función que usaremos sólo acá, podemos definir una función lambda\n",
    "lista_en_cuestion.sort(key=lambda elem: elem[1]) #Función fantasma que dado un elemento (de los de la lista que quiere ser ordenada), retorna el segundo elemento\n",
    "print(\"Lista ordenada:\\t\\t\",lista_en_cuestion)\n"
   ]
  },
  {
   "cell_type": "markdown",
   "metadata": {},
   "source": [
    "Considere una lista de strings. Ordénela de los strings que más letras a tienen, a la que menos letras a tienen."
   ]
  },
  {
   "cell_type": "code",
   "execution_count": null,
   "metadata": {},
   "outputs": [],
   "source": [
    "lista_de_str = ['elefante', 'murciélago', 'concepción', 'computador', 'vaca', 'abracadabra', 'almohada', 'python', 'codificar']"
   ]
  },
  {
   "cell_type": "markdown",
   "metadata": {},
   "source": [
    "## Ejercicio 5: `map` y `filter`"
   ]
  },
  {
   "cell_type": "markdown",
   "metadata": {},
   "source": [
    "Se te ha hecho entrega de tres textos distintos y quieres saber cuál de los tres posibles pares que se pueden armar entre estos se parece más. La métrica para medir qué tanto se parecen dos textos es en cuántos índices los textos tienen exactamente el mismo caracter, por ejemplo para `hola` y `bola` esta métrica es 3.\n",
    "\n",
    "El problema es que estos textos podrían se extremadamente grandes, libros enteros incluso, por lo cual se te pide que utilices unas funciones particulares para resolver el problema. En especifico, las funciones `map` y `filter`.\n",
    "\n",
    "_Hint:_ Puedes generar una lista que _mapee_ Trues y Falses para cada par de letras en orden según si son o no iguales (recuerda la función `zip`). Con ese resultado, puedes _filtrar_ esa lista buscando quedarte sólo con los iguales para finalmente contarlos."
   ]
  },
  {
   "cell_type": "code",
   "execution_count": null,
   "metadata": {},
   "outputs": [],
   "source": [
    "text_1 = \"Lorem ipsum dolor sit amet, consectetur adipiscing elit. Etiam fringilla est justo, et suscipit lacus hendrerit quis. Curabitur ultricies rutrum risus, vitae suscipit sem facilisis ultrices. Proin hendrerit, nunc sit amet rutrum sagittis, dui augue venenatis turpis, convallis semper quam eros non elit. Etiam tempor diam velit, eu vestibulum orci sodales gravida. Donec lacus felis, tempor non sem ut, elementum condimentum velit. Proin vehicula tempus quam, quis sodales metus lacinia nec. Pellentesque habitant morbi tristique senectus et netus et malesuada fames ac turpis egestas. Nunc ipsum risus, bibendum vel nisi ac, placerat tempor nisi. Curabitur vehicula fringilla fringilla. Donec fringilla eu elit ut condimentum. Aenean eu facilisis dolor. Phasellus a pharetra quam. Nunc a sagittis dolor, ut scelerisque nisi. Fusce interdum neque id laoreet commodo.\"\n",
    "text_2 = \"Nullam eu orci non velit commodo tincidunt. Quisque posuere ipsum id orci cursus consequat. Suspendisse eget aliquam risus. Morbi eget lorem orci. Pellentesque ut ornare est. Phasellus rhoncus laoreet felis, vitae dictum felis pharetra eu. Duis justo risus, mattis mattis sapien vitae, efficitur commodo leo. Duis vitae scelerisque sapien, id tristique mauris. Donec quis posuere nunc. Fusce laoreet, nunc eu blandit molestie, arcu enim aliquet velit, vel sagittis mauris diam et urna. In in ullamcorper velit. Class aptent taciti sociosqu ad litora torquent per conubia nostra, per inceptos himenaeos. Pellentesque semper, lectus sed posuere finibus, turpis nibh vestibulum ligula, varius sagittis purus ipsum et purus. Maecenas faucibus magna vel dolor dapibus, quis hendrerit mauris pellentesque. Quisque semper dolor mauris, sit amet congue erat ultricies et. Integer consequat facilisis arcu, vel scelerisque erat dictum vitae.\"\n",
    "text_3 = \"Suspendisse tincidunt accumsan neque, ac sollicitudin mi condimentum a. Phasellus at posuere ligula. Curabitur a sem eu tellus ornare scelerisque faucibus non quam. In egestas, enim sit amet vulputate pretium, quam lorem convallis est, non aliquet libero lorem sit amet magna. Vestibulum lacinia elit tellus, ut dapibus lorem imperdiet in. In hac habitasse platea dictumst. Nulla placerat vestibulum ligula. Pellentesque lectus orci, placerat in tristique non, lobortis quis erat. Suspendisse rhoncus, nisi ac mattis finibus, ipsum libero egestas ligula, sit amet pellentesque sapien nulla at odio.\"\n",
    "\n",
    "# Ingresa tu código despues de esta linea."
   ]
  },
  {
   "cell_type": "markdown",
   "metadata": {},
   "source": [
    "## Ejercicio 6: `enumerate`"
   ]
  },
  {
   "cell_type": "markdown",
   "metadata": {},
   "source": [
    "Crea una lista por compresión que sean todos los cuadrados de los números entre 1 y 100, evitando los múltiplos de 10. Es decir, `[1,4,9,25,36,...,81,121,...]`. Luego, imprime todos los números que resultaron ser pares que quedaron en índices múltiplos de 3 (puedes imprimir también el índice para asegurarte que estás bien)."
   ]
  },
  {
   "cell_type": "code",
   "execution_count": null,
   "metadata": {},
   "outputs": [],
   "source": []
  },
  {
   "cell_type": "markdown",
   "metadata": {},
   "source": [
    "\n",
    "## Ejercicio 7:\n",
    "\n",
    "En la carpeta dejé un módulo que se llama `conversor.py`. Este contiene 6 funciones:\n",
    "- `millas_a_kms(mi)`, que recibe un valor en millas y retorna el valor convertido a kilómetros.\n",
    "- `kms_a_millas(km)`, misma idea\n",
    "- `pies_a_mts(pies)`, misma idea\n",
    "- `mts_a_pies(mt)`, misma idea\n",
    "- `pulgadas_a_cms(p)`, misma idea\n",
    "- `cms_a_pulgadas(cm)`, misma idea\n",
    "\n",
    "¿Cuántos pies y millas son 100 kms?\n"
   ]
  },
  {
   "cell_type": "code",
   "execution_count": null,
   "metadata": {},
   "outputs": [],
   "source": []
  },
  {
   "cell_type": "markdown",
   "metadata": {},
   "source": [
    "\n",
    "## Ejercicio 8:\n",
    "\n",
    "En la carpeta dejé un módulo que se llama `manipulacion_numeros.py`. Tiene tres funciones:\n",
    "\n",
    "- `invertir_numero(n)`: recibe un número y lo retorna invertido.\n",
    "- `es_primo(n)`: recibe un número y retorna `True` si es primo y `False` en caso contrario.\n",
    "- `suma_digitos(n)`: recibe un número y suma sus dígitos.\n",
    "\n",
    "Utiliza el módulo manipulacion_numeros para escribir un programa que reciba un número entero y realice las siguientes operaciones, imprimiendo el resultado de cada una:\n",
    "\n",
    "1. Invertir el número.\n",
    "2. Verificar si el número invertido es primo.\n",
    "3. Calcular la suma de los dígitos del número invertido.\n"
   ]
  },
  {
   "cell_type": "code",
   "execution_count": null,
   "metadata": {},
   "outputs": [],
   "source": []
  },
  {
   "cell_type": "markdown",
   "metadata": {},
   "source": [
    "\n",
    "## Ejercicio 9:\n",
    "\n",
    "Este ejercicio usa listas, asique dejémoslo para cuando hayamos visto listas.\n",
    "\n",
    "En la carpeta dejé un módulo que se llama `djs.py`. Tiene tres funciones:\n",
    "\n",
    "- `digito(x, i)`: recibe un _int_ `x` y un _int_ `i`, y retorna un _int_ con el `i`-ésimo dígito de `x` (numerados desde 0). Por ejemplo, si `x` es 1896, `digito(x, 0)` retorna 1, `digito(x, 1)` retorna 8, `digito(x, 2)` retorna 9 y `digito(x, 3)` retorna 6. Para cualquier otro valor de `i` (que no sea válido), retorna -1.\n",
    "- `largo(x)`: recibe un _int_ `x`, retorna el número de dígitos que tiene. Por ejemplo, si `x` es 1896, `largo(x)` retorna 4.\n",
    "\n",
    "Un número _introesco_ es un número que contiene los dígitos 1️⃣ , 1️⃣ , 0️⃣ y 3️⃣ (en cualquier orden). Por ejemplo, son números introescos 1103, 1130, 222302211, 10101313, pero no son números introescos 103, ni 311, ni 123, ni 10101515 ni ningún número de 3 dígitos o menos. En particular, que el 103 no lo es dado que no tiene dos veces al número 1.\n",
    "\n",
    "Tu misión es definir una función que reciba dos enteros, y deberá retornar una lista con todos los números introescos que se encuentren entre ambos enteros (incluidos).\n"
   ]
  },
  {
   "cell_type": "code",
   "execution_count": null,
   "metadata": {},
   "outputs": [],
   "source": []
  }
 ],
 "metadata": {
  "kernelspec": {
   "display_name": "Python 3",
   "language": "python",
   "name": "python3"
  },
  "language_info": {
   "codemirror_mode": {
    "name": "ipython",
    "version": 3
   },
   "file_extension": ".py",
   "mimetype": "text/x-python",
   "name": "python",
   "nbconvert_exporter": "python",
   "pygments_lexer": "ipython3",
   "version": "3.11.2"
  },
  "orig_nbformat": 4,
  "vscode": {
   "interpreter": {
    "hash": "9a332da503d34353b4a88734c9c417394c5073dd13f9e5d25ac34ee4ac9b6e5a"
   }
  }
 },
 "nbformat": 4,
 "nbformat_minor": 2
}
