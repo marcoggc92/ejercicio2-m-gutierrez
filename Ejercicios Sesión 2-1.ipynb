{
 "cells": [
  {
   "attachments": {},
   "cell_type": "markdown",
   "metadata": {},
   "source": [
    "# Ejercicios Sesión 2, Parte 1\n",
    "\n",
    "En esta sesión ejercitaremos sobre el concepto de Objetos.\n",
    "<p>\n",
    "<font size='1'>Material creado por &copy; 2024 José Tomás Marquinez, todos los derechos reservados; extrayendo diversos ejercicios presentados a los alumnos de IIC1103 y IIC2233 UC.</font>\n",
    "<br>\n",
    "\n",
    "**Sugerencia de trabajo:** Comenzar creando el repositorio para la sesión, agregando al colaborador, enlazando el directorio local del creador del repositorio siguiendo los mismos pasos que la sesión anterior. Que el otro integrante luego clone el repositorio. Finalmente, seguir instrucciones de cada ejercicio."
   ]
  },
  {
   "cell_type": "markdown",
   "metadata": {},
   "source": [
    "## Ejercicio 1:\n",
    "\n",
    "Programe la clase ```Carta```, que represente a un naipe dinámico. Es decir, un naipe al que le puedo pedir que cambie su pinta y su número por separado. Asegúrese de que al imprimir instancias pueda representarse adecuadamente la información.\n",
    "\n",
    "**Sugerencia de trabajo:** Que el integrante A comparta pantalla y lo resuelvan en conjunto, para luego subir los cambios al repositorio remoto. NO OLVIDAR ELIMINAR LOS OUTPUTS ANTES DE HACER ADD COMMIT."
   ]
  },
  {
   "cell_type": "code",
   "execution_count": null,
   "metadata": {},
   "outputs": [
    {
     "name": "stdout",
     "output_type": "stream",
     "text": [
      "5 de Pica\n"
     ]
    }
   ],
   "source": [
    "class Carta:\n",
    "    ...\n",
    "        \n",
    "# Ejemplo de instanciación\n",
    "carta = Carta(\"p\",5)\n",
    "print(carta)"
   ]
  },
  {
   "cell_type": "markdown",
   "metadata": {},
   "source": [
    "## Ejercicio 2:\n",
    "\n",
    "Programe la clase ```Mazo```, que represente a un mazo de naipes, o más bien, de objetos de ```Carta```. Prográmelo como para que sea capaz de crearse como un mazo nuevo y de extraer cartas aleatorias del mazo. Finalmente, realice el código principal que permita sacar las 52 cartas del mazo de forma aleatoria, mostrándolas en consola.\n",
    "\n",
    "**Sugerencia de trabajo:** Que el integrante A cree el constructor (recordar comentar el código) y registre cambios. Que el integrante B haga pull y luego hagan dos versiones de método (uno cada uno). No se olviden del `__str__`. No olvidar tampoco eliminar los outputs antes de commitear. Luego, resolver el conflicto para que ambos se queden con la mejor versión (unión de ambos?)."
   ]
  },
  {
   "cell_type": "code",
   "execution_count": null,
   "metadata": {},
   "outputs": [
    {
     "name": "stdout",
     "output_type": "stream",
     "text": [
      "6 de Trebol\n",
      "7 de Corazón\n",
      "4 de Diamante\n",
      "10 de Diamante\n",
      "10 de Corazón\n",
      "6 de Diamante\n",
      "4 de Corazón\n",
      "10 de Trebol\n",
      "7 de Diamante\n",
      "5 de Trebol\n",
      "As de Trebol\n",
      "5 de Pica\n",
      "As de Diamante\n",
      "3 de Trebol\n",
      "8 de Corazón\n",
      "6 de Pica\n",
      "5 de Corazón\n",
      "4 de Pica\n",
      "2 de Trebol\n",
      "Rey de Pica\n",
      "2 de Corazón\n",
      "7 de Trebol\n",
      "3 de Pica\n",
      "Rey de Diamante\n",
      "9 de Diamante\n",
      "5 de Diamante\n",
      "As de Corazón\n",
      "Jota de Pica\n",
      "3 de Corazón\n",
      "Reina de Corazón\n",
      "2 de Pica\n",
      "Jota de Diamante\n",
      "Jota de Corazón\n",
      "Reina de Diamante\n",
      "Rey de Corazón\n",
      "Rey de Trebol\n",
      "Reina de Pica\n",
      "3 de Diamante\n",
      "6 de Corazón\n",
      "As de Pica\n",
      "4 de Trebol\n",
      "8 de Pica\n",
      "7 de Pica\n",
      "9 de Pica\n",
      "10 de Pica\n",
      "8 de Diamante\n",
      "9 de Trebol\n",
      "Reina de Trebol\n",
      "Jota de Trebol\n",
      "8 de Trebol\n",
      "9 de Corazón\n",
      "2 de Diamante\n"
     ]
    }
   ],
   "source": [
    "import random\n",
    "\n",
    "class Mazo:\n",
    "    ...\n",
    "    \n",
    "# Código principal\n",
    "m = Mazo()\n",
    "while len(m.cartas) > 0:\n",
    "    print(m.sacar_carta())\n",
    "    "
   ]
  },
  {
   "cell_type": "markdown",
   "metadata": {},
   "source": [
    "## Ejercicio 3: Monumentos y Ciudades\n",
    "\n",
    "**Sugerencia de trabajo:** Que el integrante A codifique el constructor de la clase `Monumento` y registre cambios. Luego repartirse los métodos restrantes de `Monumento` para que codifiquen en paralelo, eliminar outputs y registrar cambios. Resolver conflictos en caso de que algo surja. Finalmente, repetir para la clase `Ciudad` pero haciendo que el integrante B haga el constructor.\n",
    "\n",
    "En esta pregunta se te pide que realices un programa que permita gestionar los monumentos de las distintas ciudades del mundo y la calidad de éstos. En concreto, deberás implementar:\n",
    "\n",
    "1. La clase `Monumento` que representará a un monumento. Cada `Monumento` tiene un nombre, índice de belleza, índice de accesibilidad, e índice de precio. Los índices son números entre 1 y 10 (donde 1 es lo más bajo). Para esta clase, deberás implementar:\n",
    "    - Constructor\n",
    "    - `calcular_calidad`, que calcula y retorna la calidad del `Monumento` utilizando la siguiente fórmula $belleza*50 + accesibilidad*25 + precio*25$.\n",
    "    - `supera_calidad`, que utiliza el método anterior para verificar si la calidad del `Monumento` supera cierto límite. Retorna `True` si el `Monumento` supera la calidad límite y `False` en caso contrario.\n",
    "    - `__str__` para formatear el monumento según el siguiente formato: `Nombre [Calidad] (belleza-accesibilidad-precio)`. Por ejemplo `Park Guell [925] (10-9-8)`.\n",
    "\n",
    "2. Clase `Ciudad` que representa a una ciudad y sus monumentos. Cada ciudad tiene un nombre y una lista de monumentos. Para esta clase, deberás implementar:\n",
    "    - Constructor. Nota que la lista de monumentos debe ser una lista de instancias de `Monumento`, que debe comenzar vacía.\n",
    "    - `agregar_monumento`, que agrega un `Monumento` a la lista de monumentos de la ciudad.\n",
    "    - `buscar_anomalias`, que busca y retorna una lista con todas las instancias de `Monumento` que tienen una anomalía. Un `Monumento` tiene una anomalía cuando tiene (i) un índice de belleza alto (es decir, muy bello) y un precoi de índice bajo (es decir, muy barato), o (ii) un índice de belleza bajo (es decir, muy feo) y un precio con un índice algo (es decir, muy caro). El índice de belleza y precio se considera bajo cuando estos son menores o iguales a 4, y alto cuando tienen valores mayores o iguales a 8.\n",
    "    - `top_k_anomalos`: Busca y retorna una lista de instancias de `Monumento` que sean los `k` monumentos con mayor calidad, ordenados de mayor a menor calidad.\n",
    "\n",
    "_Hint:_ El método `list.sort()` no retorna nada pero reordena los elementos. A este método se le puede entregar una función bajo el parámetro `key`, que le dará el valor de ordenamiento a los valores a ser ordenados. Puedes usar una función _lambda_, por ejemplo. Un ejemplo de orden para una lista de enteros positivos y negativos que queremos que queden ordenados de menor a mayor según su _norma_ (o valor absoluto) podría hacerse `lista.sort(key=lambda x: abs(x))`"
   ]
  },
  {
   "cell_type": "code",
   "execution_count": null,
   "metadata": {},
   "outputs": [],
   "source": [
    "[5,-9,2,-10,6,-1,0].sort(key=lambda x:abs(x))"
   ]
  },
  {
   "cell_type": "code",
   "execution_count": null,
   "metadata": {},
   "outputs": [],
   "source": [
    "class Monumento:\n",
    "    # Completar\n",
    "    pass\n",
    "\n",
    "\n",
    "class Ciudad:\n",
    "    # Completar\n",
    "    pass\n",
    "\n",
    "\n",
    "# CODIGO PRINCIPAL (TEST)\n",
    "\n",
    "# Monumento: 1-Nombre 2-Belleza 3-Accesibilidad 4-Precio\n",
    "sagrada = Monumento(\"Sagrada Familia\", 10, 10, 4)\n",
    "guell = Monumento(\"Park Guell\", 10, 9, 8)\n",
    "montserrat = Monumento(\"Montserrat\", 9, 6, 7)\n",
    "ramblas = Monumento(\"Ramblas\", 5, 10, 10)\n",
    "olimpico = Monumento(\"Estadio Olimpico\", 6, 7, 8)\n",
    "palaumusica = Monumento(\"Palau de la Musica\", 10, 9, 3)\n",
    "pedrera = Monumento(\"Pedrera\", 9, 10, 6)\n",
    "campnou = Monumento(\"Camp Nou\", 3, 9, 4)\n",
    "\n",
    "print(\"-CALIDAD-\")\n",
    "print(sagrada.calcular_calidad())\n",
    "print(ramblas.calcular_calidad())\n",
    "\n",
    "print(\"-SUPERA CALIDAD-\")\n",
    "print(sagrada.supera_calidad(800))\n",
    "print(ramblas.supera_calidad(800))\n",
    "\n",
    "barcelona = Ciudad(\"Barcelona\")\n",
    "barcelona.agregar_monumento(sagrada)\n",
    "barcelona.agregar_monumento(guell)\n",
    "barcelona.agregar_monumento(montserrat)\n",
    "barcelona.agregar_monumento(ramblas)\n",
    "barcelona.agregar_monumento(olimpico)\n",
    "barcelona.agregar_monumento(palaumusica)\n",
    "barcelona.agregar_monumento(pedrera)\n",
    "barcelona.agregar_monumento(campnou)\n",
    "\n",
    "print(\"-ANOMALIAS-\")\n",
    "anomalias = barcelona.buscar_anomalias()\n",
    "for monumento in anomalias:\n",
    "    print(monumento)\n",
    "\n",
    "print(\"-RANKING-\")\n",
    "ranking = barcelona.top_k_anomalos(5)\n",
    "for monumento in ranking:\n",
    "    print(monumento)"
   ]
  },
  {
   "cell_type": "markdown",
   "metadata": {},
   "source": [
    "## Ejercicio 4: DCCanvas"
   ]
  },
  {
   "cell_type": "markdown",
   "metadata": {},
   "source": [
    "**Sugerencia de trabajo:** Similar al anterior. Busquen trabajar colaborativamente aprovechando los beneficios que entrega Git y Github.\n",
    "\n",
    "Como bien sabes, este nivelatorio se ha realizado en formato online, pero como Canvas no tiene precisamente el mejor sistema de videoconferencias, te piden ayuda para programar el funcionamiento de estas. Para ello, deberás crear las siguientes clases con ciertas específicaciones:\n",
    "\n",
    "1. La clase ``` Alumno```con:\n",
    "    - atributo nombre\n",
    "    - atributo apellido\n",
    "    - atributo número de alumno\n",
    "    - atributo clases asistidas, lista con las siglas de las clases a las que asistió el alumno en el día.\n",
    "\n",
    "\n",
    "2. La clase ```Sala``` con :\n",
    "    - atributo lista de alumnos, lista con la información de los alumnos inscritos en el curso.\n",
    "    - atributo número de sala\n",
    "    - atributo sigla curso\n",
    "    - método ```ingresar_alumno(alumno)```, el cual recibe una instancia de la clase `Alumno` y verifica que tanto su nombre como número de alumno pertenezcan a la lista de alumnos de esa clase.\n",
    "        - Si pertenece a la clase se debe agregar la **sigla del curso** a las clases asistidas del alumno, además de imprimir:\n",
    "        \n",
    "        ```\"{nombre alumno} {apellido alumno} ha ingresado a la Sala {numero sala} - {sigla}\"```\n",
    "        - En caso contrario se imprime: \n",
    "        \n",
    "        ```\"{nombre alumno} {apellido alumno} se ha intentado colar a la Sala {numero sala} - {sigla}\"```\n",
    "        \n",
    "Puedes usar el siguiente código de base como guía para realizar tu solución:"
   ]
  },
  {
   "cell_type": "code",
   "execution_count": null,
   "metadata": {},
   "outputs": [],
   "source": [
    "class Alumno:\n",
    "    \n",
    "    def __init__(self, nombre, apellido, numero_alumno):\n",
    "        #Completar\n",
    "        pass\n",
    "\n",
    "class Sala:\n",
    "    \n",
    "    def __init__(self, lista_alumnos, numero_sala, sigla):\n",
    "        #Completar\n",
    "        pass\n",
    "    \n",
    "    def ingresar_alumno(self, alumno):\n",
    "        #Completar\n",
    "        pass\n",
    "    \n",
    "javier = Alumno(\"Javier\", \"Gomez\", \"18639942\")\n",
    "josefa = Alumno(\"Josefa\", \"Paz\", \"16645578\")\n",
    "tomas = Alumno(\"Tomas\", \"Gonzalez\", \"19638225\")\n",
    "\n",
    "sala = Sala([(\"Michael\", \"19643721\"),(\"Silvana\", \"18632890\"),(\"Tomas\", \"19638225\"),\n",
    "                (\"Josefa\", \"16645578\"),(\"Javier\", \"16665798\"),(\"\", \"\")], 666, \"IIC2233\")\n",
    "sala.ingresar_alumno(javier)\n",
    "sala.ingresar_alumno(josefa)\n",
    "sala.ingresar_alumno(tomas)"
   ]
  }
 ],
 "metadata": {
  "kernelspec": {
   "display_name": "Python 3",
   "language": "python",
   "name": "python3"
  },
  "language_info": {
   "codemirror_mode": {
    "name": "ipython",
    "version": 3
   },
   "file_extension": ".py",
   "mimetype": "text/x-python",
   "name": "python",
   "nbconvert_exporter": "python",
   "pygments_lexer": "ipython3",
   "version": "3.11.2"
  },
  "orig_nbformat": 4,
  "vscode": {
   "interpreter": {
    "hash": "9a332da503d34353b4a88734c9c417394c5073dd13f9e5d25ac34ee4ac9b6e5a"
   }
  }
 },
 "nbformat": 4,
 "nbformat_minor": 2
}
